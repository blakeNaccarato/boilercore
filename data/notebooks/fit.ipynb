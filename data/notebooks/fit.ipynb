{
 "cells": [
  {
   "cell_type": "code",
   "execution_count": null,
   "metadata": {},
   "outputs": [],
   "source": [
    "from pathlib import Path\n",
    "\n",
    "import numpy as np\n",
    "from matplotlib.pyplot import subplots\n",
    "\n",
    "from boilercore.fits import fit_and_plot\n",
    "from boilercore.modelfun import get_model\n",
    "from boilercore.models.fit import H_MIN, Fit\n",
    "from boilercore.models.params import Params\n",
    "\n",
    "DECADES = 6\n",
    "EPS = float(np.finfo(float).eps)\n",
    "PLOT_WIDTH = 5\n",
    "Y_ERR = 1.0\n",
    "Y = [165.7, 156.8, 149.2, 141.1, 116.4]\n",
    "\n",
    "y_errors = [Y_ERR] * len(Y)\n",
    "_, model = get_model(Path(\"data/model.dillpickle\"))\n",
    "\n",
    "\n",
    "def check(params, ax1, ax2, run1, run2):\n",
    "    display(fit_and_plot(model=model, params=params, y=Y, ax=ax1, run=run1))\n",
    "    fit_and_plot(model=model, params=params, y=Y, y_errors=y_errors, ax=ax2, run=run2)"
   ]
  },
  {
   "cell_type": "code",
   "execution_count": null,
   "metadata": {},
   "outputs": [],
   "source": [
    "def check_initial_values(h, ax1, ax2, run1, run2):\n",
    "    check(\n",
    "        params=Params(\n",
    "            fit=Fit(initial_values=dict(T_s=100.0, q_s=10.0, k=400.0, h_a=h, h_w=H_MIN))\n",
    "        ),\n",
    "        ax1=ax1,\n",
    "        ax2=ax2,\n",
    "        run1=run1,\n",
    "        run2=run2,\n",
    "    )\n",
    "\n",
    "\n",
    "_, axs = subplots(DECADES, 2, figsize=(2 * PLOT_WIDTH, PLOT_WIDTH * DECADES))\n",
    "for decade, (ax1, ax2) in zip(range(DECADES), axs, strict=True):\n",
    "    run1 = f\"{decade}\"\n",
    "    run2 = f\"u{decade}\"\n",
    "    check_initial_values(h=EPS * 10**decade, ax1=ax1, ax2=ax2, run1=run1, run2=run2)"
   ]
  },
  {
   "cell_type": "code",
   "execution_count": null,
   "metadata": {},
   "outputs": [],
   "source": [
    "def check_fixed_values(h, ax1, ax2, run1, run2):\n",
    "    check(\n",
    "        params=Params(\n",
    "            fit=Fit(initial_values=dict(T_s=100.0, q_s=10.0, k=400.0, h_a=H_MIN, h_w=h))\n",
    "        ),\n",
    "        ax1=ax1,\n",
    "        ax2=ax2,\n",
    "        run1=run1,\n",
    "        run2=run2,\n",
    "    )\n",
    "\n",
    "\n",
    "_, axs = subplots(DECADES, 2, figsize=(2 * PLOT_WIDTH, PLOT_WIDTH * DECADES))\n",
    "for decade, (ax1, ax2) in zip(range(DECADES), axs, strict=True):\n",
    "    run1 = f\"{decade}\"\n",
    "    run2 = f\"u{decade}\"\n",
    "    check_fixed_values(h=EPS * 10**decade, ax1=ax1, ax2=ax2, run1=run1, run2=run2)"
   ]
  },
  {
   "cell_type": "code",
   "execution_count": null,
   "metadata": {},
   "outputs": [],
   "source": [
    "_, axs = subplots(1, 2, figsize=(2 * PLOT_WIDTH, PLOT_WIDTH))\n",
    "(ax1, ax2) = axs\n",
    "check_fixed_values(h=500, ax1=ax1, ax2=ax2, run1=run1, run2=run2)"
   ]
  }
 ],
 "metadata": {
  "kernelspec": {
   "display_name": ".venv",
   "language": "python",
   "name": "python3"
  },
  "language_info": {
   "codemirror_mode": {
    "name": "ipython",
    "version": 3
   },
   "file_extension": ".py",
   "mimetype": "text/x-python",
   "name": "python",
   "nbconvert_exporter": "python",
   "pygments_lexer": "ipython3",
   "version": "3.11.5"
  }
 },
 "nbformat": 4,
 "nbformat_minor": 2
}
